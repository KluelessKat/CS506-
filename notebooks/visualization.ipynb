{
  "nbformat": 4,
  "nbformat_minor": 0,
  "metadata": {
    "colab": {
      "provenance": []
    },
    "kernelspec": {
      "name": "python3",
      "display_name": "Python 3"
    },
    "language_info": {
      "name": "python"
    }
  },
  "cells": [
    {
      "cell_type": "code",
      "execution_count": 13,
      "metadata": {
        "id": "FG1LkwTMZEwU"
      },
      "outputs": [],
      "source": [
        "import pandas as pd\n",
        "import numpy as np\n",
        "import plotly.express as px\n"
      ]
    },
    {
      "cell_type": "code",
      "source": [
        "# Load the dataset\n",
        "file_path = 'combined_2020-2022.csv'\n",
        "df = pd.read_csv(file_path)\n",
        "\n",
        "# Handle missing values and preprocess\n",
        "df['TOTSLF22'] = pd.to_numeric(df['TOTSLF22'], errors='coerce')\n",
        "df['FAMINC22'] = pd.to_numeric(df['FAMINC22'], errors='coerce')\n",
        "df['HOUR53'] = pd.to_numeric(df['HOUR53'], errors='coerce')\n",
        "df['SEX'] = df['SEX'].str.strip()\n",
        "df['RACEV1X'] = df['RACEV1X'].str.strip()\n",
        "df['REGION22'] = df['REGION22'].str.strip()\n",
        "df = df.dropna(subset=['TOTSLF22'])  # Ensure the target column has no missing values\n",
        "\n",
        "# Define columns where 1 means \"Yes\" and 2 means \"No\"\n",
        "binary_columns = ['PRVEV22', 'MCREV22', 'MCDEV22', 'UNINS22',\n",
        "                  'CABLADDR', 'CABREAST', 'CACERVIX', 'CACOLON',\n",
        "                  'CALUNG', 'CALYMPH', 'CAMELANO', 'CAOTHER',\n",
        "                  'CAPROSTA', 'CASKINNM', 'CASKINDK', 'CAUTERUS']\n",
        "\n",
        "# Replace 1 and 2 with \"Yes\" and \"No\"\n",
        "for col in binary_columns:\n",
        "    if col in df.columns:\n",
        "        df[col] = df[col].replace({1: \"Yes\", 2: \"No\"})\n"
      ],
      "metadata": {
        "id": "GvrlFltqZnHD"
      },
      "execution_count": 14,
      "outputs": []
    },
    {
      "cell_type": "code",
      "source": [
        "# Visualization\n",
        "\n",
        "def plot_cost_distribution(df):\n",
        "    fig = px.histogram(df, x='TOTSLF22', nbins=30, title=\"Distribution of Out-of-Pocket Costs\",\n",
        "                       labels={'TOTSLF22': 'Out-of-Pocket Cost'},\n",
        "                       marginal='box')\n",
        "    fig.update_layout(bargap=0.1)\n",
        "    return fig\n",
        "\n",
        "def plot_income_vs_cost(df):\n",
        "    fig = px.scatter(df, x='FAMINC22', y='TOTSLF22', color='RACEV1X',\n",
        "                     title=\"Family Income vs. Out-of-Pocket Costs\",\n",
        "                     labels={'FAMINC22': 'Family Income', 'TOTSLF22': 'Out-of-Pocket Cost'})\n",
        "    fig.update_traces(marker=dict(size=7))\n",
        "    return fig\n",
        "\n",
        "def plot_geographic_costs(df):\n",
        "    avg_costs = df.groupby('REGION22')['TOTSLF22'].mean().reset_index()\n",
        "    fig = px.bar(avg_costs, x='REGION22', y='TOTSLF22', title=\"Average Out-of-Pocket Costs by Region\",\n",
        "                 labels={'REGION22': 'Region', 'TOTSLF22': 'Average Cost'})\n",
        "    return fig\n",
        "\n",
        "def plot_racial_disparities(df):\n",
        "    avg_costs = df.groupby('RACEV1X')['TOTSLF22'].mean().reset_index()\n",
        "    fig = px.bar(avg_costs, x='RACEV1X', y='TOTSLF22', title=\"Average Out-of-Pocket Costs by Race\",\n",
        "                 labels={'RACEV1X': 'Race/Ethnicity', 'TOTSLF22': 'Average Cost'})\n",
        "    return fig\n",
        "\n",
        "def plot_marital_status_costs(df):\n",
        "    fig = px.box(df, x='MARRY22X', y='TOTSLF22', color='RACEV1X',\n",
        "                 title=\"Out-of-Pocket Costs by Marital Status and Race\",\n",
        "                 labels={'MARRY22X': 'Marital Status', 'TOTSLF22': 'Out-of-Pocket Cost'})\n",
        "    return fig\n",
        "\n",
        "def plot_parallel_coordinates(df):\n",
        "    fig = px.parallel_coordinates(\n",
        "        df, dimensions=['TOTSLF22', 'FAMINC22', 'AGELAST', 'HOUR53'],\n",
        "        color='TOTSLF22', color_continuous_scale=px.colors.diverging.Tealrose,\n",
        "        title=\"Parallel Coordinates Plot: Costs and Predictors\"\n",
        "    )\n",
        "    return fig\n",
        "\n",
        "def plot_insurance_costs(df):\n",
        "    fig = px.box(df, x='PRVEV22', y='TOTSLF22', color='PRVEV22',\n",
        "                 title=\"Out-of-Pocket Costs by Private Insurance Status\",\n",
        "                 labels={'PRVEV22': 'Private Insurance', 'TOTSLF22': 'Out-of-Pocket Cost'})\n",
        "    fig.update_xaxes(categoryorder=\"array\", categoryarray=[\"Yes\", \"No\"])  # Ensure \"Yes\" appears before \"No\"\n",
        "    return fig\n",
        "\n",
        "def plot_insurance_bar(df):\n",
        "    insurance_counts = df['PRVEV22'].value_counts().reset_index()\n",
        "    insurance_counts.columns = ['Private Insurance', 'Count']\n",
        "    fig = px.bar(insurance_counts, x='Private Insurance', y='Count', title=\"Private Insurance Status Distribution\")\n",
        "    return fig\n",
        "\n",
        "def plot_cancer_diagnoses(df):\n",
        "    cancer_counts = df[['CABLADDR', 'CABREAST', 'CACERVIX']].melt(var_name='Cancer Type', value_name='Status')\n",
        "    fig = px.bar(cancer_counts[cancer_counts['Status'] == \"Yes\"],\n",
        "                 x='Cancer Type', title=\"Counts of Cancer Diagnoses by Type\")\n",
        "    return fig\n",
        "\n",
        "\n",
        "def plot_feature_importance(feature_importances, feature_names):\n",
        "    fig = px.bar(x=feature_names, y=feature_importances, title=\"Feature Importance\",\n",
        "                 labels={'x': 'Feature', 'y': 'Importance'})\n",
        "    return fig\n",
        "\n",
        "\n",
        "# plot_cost_distribution(df)\n",
        "# plot_income_vs_cost(df)\n",
        "# plot_geographic_costs(df)\n",
        "# plot_racial_disparities(df)\n",
        "# plot_marital_status_costs(df)\n",
        "# plot_parallel_coordinates(df)\n",
        "# plot_insurance_costs(df)\n"
      ],
      "metadata": {
        "id": "E82l3pGmZ2Zz"
      },
      "execution_count": 15,
      "outputs": []
    },
    {
      "cell_type": "code",
      "source": [
        "!pip install dash\n",
        "from dash import Dash, dcc, html\n",
        "\n",
        "app = Dash(__name__)\n",
        "\n",
        "app.layout = html.Div([\n",
        "    html.H1(\"Cancer Treatment Cost Analysis\"),\n",
        "    dcc.Graph(figure=plot_cost_distribution(df)),\n",
        "    dcc.Graph(figure=plot_income_vs_cost(df)),\n",
        "    dcc.Graph(figure=plot_geographic_costs(df)),\n",
        "    dcc.Graph(figure=plot_racial_disparities(df)),\n",
        "    dcc.Graph(figure=plot_marital_status_costs(df)),\n",
        "    dcc.Graph(figure=plot_parallel_coordinates(df)),\n",
        "    dcc.Graph(figure=plot_insurance_costs(df)),\n",
        "    dcc.Graph(figure=plot_insurance_bar(df)),\n",
        "    dcc.Graph(figure=plot_cancer_diagnoses(df))\n",
        "])\n",
        "\n",
        "if __name__ == '__main__':\n",
        "    app.run_server(debug=True)\n"
      ],
      "metadata": {
        "colab": {
          "base_uri": "https://localhost:8080/",
          "height": 1000
        },
        "id": "i-swMeZohlZ-",
        "outputId": "e96b361b-aac3-4927-f353-2858e3f0a4fb"
      },
      "execution_count": 17,
      "outputs": [
        {
          "output_type": "stream",
          "name": "stdout",
          "text": [
            "Requirement already satisfied: dash in /usr/local/lib/python3.10/dist-packages (2.18.2)\n",
            "Requirement already satisfied: Flask<3.1,>=1.0.4 in /usr/local/lib/python3.10/dist-packages (from dash) (3.0.3)\n",
            "Requirement already satisfied: Werkzeug<3.1 in /usr/local/lib/python3.10/dist-packages (from dash) (3.0.6)\n",
            "Requirement already satisfied: plotly>=5.0.0 in /usr/local/lib/python3.10/dist-packages (from dash) (5.24.1)\n",
            "Requirement already satisfied: dash-html-components==2.0.0 in /usr/local/lib/python3.10/dist-packages (from dash) (2.0.0)\n",
            "Requirement already satisfied: dash-core-components==2.0.0 in /usr/local/lib/python3.10/dist-packages (from dash) (2.0.0)\n",
            "Requirement already satisfied: dash-table==5.0.0 in /usr/local/lib/python3.10/dist-packages (from dash) (5.0.0)\n",
            "Requirement already satisfied: importlib-metadata in /usr/local/lib/python3.10/dist-packages (from dash) (8.5.0)\n",
            "Requirement already satisfied: typing-extensions>=4.1.1 in /usr/local/lib/python3.10/dist-packages (from dash) (4.12.2)\n",
            "Requirement already satisfied: requests in /usr/local/lib/python3.10/dist-packages (from dash) (2.32.3)\n",
            "Requirement already satisfied: retrying in /usr/local/lib/python3.10/dist-packages (from dash) (1.3.4)\n",
            "Requirement already satisfied: nest-asyncio in /usr/local/lib/python3.10/dist-packages (from dash) (1.6.0)\n",
            "Requirement already satisfied: setuptools in /usr/local/lib/python3.10/dist-packages (from dash) (75.1.0)\n",
            "Requirement already satisfied: Jinja2>=3.1.2 in /usr/local/lib/python3.10/dist-packages (from Flask<3.1,>=1.0.4->dash) (3.1.4)\n",
            "Requirement already satisfied: itsdangerous>=2.1.2 in /usr/local/lib/python3.10/dist-packages (from Flask<3.1,>=1.0.4->dash) (2.2.0)\n",
            "Requirement already satisfied: click>=8.1.3 in /usr/local/lib/python3.10/dist-packages (from Flask<3.1,>=1.0.4->dash) (8.1.7)\n",
            "Requirement already satisfied: blinker>=1.6.2 in /usr/local/lib/python3.10/dist-packages (from Flask<3.1,>=1.0.4->dash) (1.9.0)\n",
            "Requirement already satisfied: tenacity>=6.2.0 in /usr/local/lib/python3.10/dist-packages (from plotly>=5.0.0->dash) (9.0.0)\n",
            "Requirement already satisfied: packaging in /usr/local/lib/python3.10/dist-packages (from plotly>=5.0.0->dash) (24.2)\n",
            "Requirement already satisfied: MarkupSafe>=2.1.1 in /usr/local/lib/python3.10/dist-packages (from Werkzeug<3.1->dash) (3.0.2)\n",
            "Requirement already satisfied: zipp>=3.20 in /usr/local/lib/python3.10/dist-packages (from importlib-metadata->dash) (3.21.0)\n",
            "Requirement already satisfied: charset-normalizer<4,>=2 in /usr/local/lib/python3.10/dist-packages (from requests->dash) (3.4.0)\n",
            "Requirement already satisfied: idna<4,>=2.5 in /usr/local/lib/python3.10/dist-packages (from requests->dash) (3.10)\n",
            "Requirement already satisfied: urllib3<3,>=1.21.1 in /usr/local/lib/python3.10/dist-packages (from requests->dash) (2.2.3)\n",
            "Requirement already satisfied: certifi>=2017.4.17 in /usr/local/lib/python3.10/dist-packages (from requests->dash) (2024.8.30)\n",
            "Requirement already satisfied: six>=1.7.0 in /usr/local/lib/python3.10/dist-packages (from retrying->dash) (1.16.0)\n"
          ]
        },
        {
          "output_type": "display_data",
          "data": {
            "text/plain": [
              "<IPython.core.display.Javascript object>"
            ],
            "application/javascript": [
              "(async (port, path, width, height, cache, element) => {\n",
              "    if (!google.colab.kernel.accessAllowed && !cache) {\n",
              "      return;\n",
              "    }\n",
              "    element.appendChild(document.createTextNode(''));\n",
              "    const url = await google.colab.kernel.proxyPort(port, {cache});\n",
              "    const iframe = document.createElement('iframe');\n",
              "    iframe.src = new URL(path, url).toString();\n",
              "    iframe.height = height;\n",
              "    iframe.width = width;\n",
              "    iframe.style.border = 0;\n",
              "    iframe.allow = [\n",
              "        'accelerometer',\n",
              "        'autoplay',\n",
              "        'camera',\n",
              "        'clipboard-read',\n",
              "        'clipboard-write',\n",
              "        'gyroscope',\n",
              "        'magnetometer',\n",
              "        'microphone',\n",
              "        'serial',\n",
              "        'usb',\n",
              "        'xr-spatial-tracking',\n",
              "    ].join('; ');\n",
              "    element.appendChild(iframe);\n",
              "  })(8050, \"/\", \"100%\", 650, false, window.element)"
            ]
          },
          "metadata": {}
        }
      ]
    }
  ]
}